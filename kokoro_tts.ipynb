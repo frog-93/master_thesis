{
  "nbformat": 4,
  "nbformat_minor": 0,
  "metadata": {
    "colab": {
      "provenance": []
    },
    "kernelspec": {
      "name": "python3",
      "display_name": "Python 3"
    },
    "language_info": {
      "name": "python"
    }
  },
  "cells": [
    {
      "cell_type": "code",
      "source": [
        "!pip install -q kokoro>=0.9.2 soundfile\n",
        "!apt-get -qq -y install espeak-ng > /dev/null 2>&1"
      ],
      "metadata": {
        "id": "-UxmZL_sMkYU"
      },
      "execution_count": null,
      "outputs": []
    },
    {
      "cell_type": "code",
      "source": [
        "# Importer les bibliothèques nécessaires\n",
        "import pandas as pd\n",
        "import os\n",
        "from kokoro import KPipeline\n",
        "import soundfile as sf\n",
        "from google.colab import drive\n",
        "\n",
        "# Monter Google Drive\n",
        "#drive.mount('/content/drive')\n",
        "\n",
        "# Définir le chemin du dossier où les fichiers audio seront enregistrés\n",
        "audio_folder = ''\n",
        "\n",
        "# Vérifier si le dossier existe, sinon le créer\n",
        "os.makedirs(audio_folder, exist_ok=True)\n",
        "\n",
        "# Charger le pipeline Kokoro\n",
        "pipeline = KPipeline(lang_code='a')\n",
        "\n",
        "# Charger le path du fichier CSV contenant les phrases\n",
        "csv_file = 'file.csv'\n",
        "df = pd.read_csv(csv_file, encoding='ISO-8859-1')\n",
        "\n",
        "# Vérifier les premières lignes pour être sûr du format\n",
        "print(df.head())\n",
        "\n",
        "# Spécifier la voix\n",
        "voice = 'am_puck'\n",
        "\n",
        "# Générer les fichiers audio pour chaque phrase\n",
        "for i, row in df.iterrows():\n",
        "    # Extraire le texte de la colonne\n",
        "    text = row['text_column']\n",
        "\n",
        "    # Générer l'audio avec Kokoro\n",
        "    generator = pipeline(text, voice=voice)\n",
        "\n",
        "    # Sauvegarder le fichier audio\n",
        "    for j, (gs, ps, audio) in enumerate(generator):\n",
        "        audio_filename = os.path.join(audio_folder, f\"audio_{i+1}.wav\")\n",
        "        sf.write(audio_filename, audio, 24000)\n",
        "        print(f\"Fichier audio {i+1} sauvegardé sous : {audio_filename}\")"
      ],
      "metadata": {
        "colab": {
          "base_uri": "https://localhost:8080/"
        },
        "id": "0IiQfY6pLiPj",
        "outputId": "92d2ba87-803a-49dd-89b8-c2be464e88a7"
      },
      "execution_count": null,
      "outputs": [
        
        },
      ]
    }
  ]
}
